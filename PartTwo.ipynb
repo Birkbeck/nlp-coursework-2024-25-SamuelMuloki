{
 "cells": [
  {
   "cell_type": "code",
   "execution_count": 1,
   "id": "cb87b99b",
   "metadata": {},
   "outputs": [
    {
     "name": "stdout",
     "output_type": "stream",
     "text": [
      "(8084, 8)\n"
     ]
    }
   ],
   "source": [
    "import pandas as pd\n",
    "\n",
    "df = pd.read_csv('p2-texts/hansard40000.csv')\n",
    "# Rename the ‘Labour (Co-op)’ value in ‘party’ column to ‘Labour’\n",
    "df['party'] = df['party'].replace('Labour (Co-op)', 'Labour')\n",
    "# Remove any rows where the value of the ‘party’ column is not one of the\n",
    "# four most common party names, and remove the ‘Speaker’ value\n",
    "top_parties = df['party'].value_counts().drop('Speaker').nlargest(4).index\n",
    "df = df[df['party'].isin(top_parties)]\n",
    "# Remove any rows where the value in the ‘speech_class’ column is not ‘Speech’.\n",
    "df = df[df['speech_class'] == 'Speech']\n",
    "# Remove any rows where the text in the ‘speech’ column is less than 1000\n",
    "# characters long.\n",
    "df = df[df['speech'].str.len() >= 1000]\n",
    "\n",
    "print(df.shape)"
   ]
  },
  {
   "cell_type": "code",
   "execution_count": 2,
   "id": "fcad7a95",
   "metadata": {},
   "outputs": [],
   "source": [
    "from sklearn.feature_extraction.text import TfidfVectorizer\n",
    "from sklearn.model_selection import train_test_split\n",
    "\n",
    "vectorizer = TfidfVectorizer(stop_words='english', max_features=3000)\n",
    "X = vectorizer.fit_transform(df['speech'])\n",
    "\n",
    "y = df['party']\n",
    "X_train, X_test, y_train, y_test = train_test_split(X, y, test_size=0.25, random_state=26, stratify=y)"
   ]
  },
  {
   "cell_type": "code",
   "execution_count": 3,
   "id": "1af8dc4f",
   "metadata": {},
   "outputs": [
    {
     "name": "stdout",
     "output_type": "stream",
     "text": [
      "RandomForest Macro F1 Score: 0.4456041754705794\n",
      "RandomForest Classification Report:\n",
      "                          precision    recall  f1-score   support\n",
      "\n",
      "           Conservative       0.72      0.97      0.83      1205\n",
      "                 Labour       0.75      0.45      0.56       579\n",
      "       Liberal Democrat       0.00      0.00      0.00        67\n",
      "Scottish National Party       0.84      0.25      0.39       170\n",
      "\n",
      "               accuracy                           0.73      2021\n",
      "              macro avg       0.58      0.42      0.45      2021\n",
      "           weighted avg       0.72      0.73      0.69      2021\n",
      "\n"
     ]
    },
    {
     "name": "stderr",
     "output_type": "stream",
     "text": [
      "/Users/samuelmuloki/Documents/University/Birkbeck/Coursework/nlp-coursework-2024-25-SamuelMuloki/.venv/lib/python3.10/site-packages/sklearn/metrics/_classification.py:1706: UndefinedMetricWarning: Precision is ill-defined and being set to 0.0 in labels with no predicted samples. Use `zero_division` parameter to control this behavior.\n",
      "  _warn_prf(average, modifier, f\"{metric.capitalize()} is\", result.shape[0])\n",
      "/Users/samuelmuloki/Documents/University/Birkbeck/Coursework/nlp-coursework-2024-25-SamuelMuloki/.venv/lib/python3.10/site-packages/sklearn/metrics/_classification.py:1706: UndefinedMetricWarning: Precision is ill-defined and being set to 0.0 in labels with no predicted samples. Use `zero_division` parameter to control this behavior.\n",
      "  _warn_prf(average, modifier, f\"{metric.capitalize()} is\", result.shape[0])\n",
      "/Users/samuelmuloki/Documents/University/Birkbeck/Coursework/nlp-coursework-2024-25-SamuelMuloki/.venv/lib/python3.10/site-packages/sklearn/metrics/_classification.py:1706: UndefinedMetricWarning: Precision is ill-defined and being set to 0.0 in labels with no predicted samples. Use `zero_division` parameter to control this behavior.\n",
      "  _warn_prf(average, modifier, f\"{metric.capitalize()} is\", result.shape[0])\n"
     ]
    },
    {
     "name": "stdout",
     "output_type": "stream",
     "text": [
      "SVM Macro F1 Score: 0.6438622039189352\n",
      "SVM Classification Report:\n",
      "                          precision    recall  f1-score   support\n",
      "\n",
      "           Conservative       0.84      0.91      0.87      1205\n",
      "                 Labour       0.73      0.71      0.72       579\n",
      "       Liberal Democrat       0.94      0.22      0.36        67\n",
      "Scottish National Party       0.70      0.56      0.62       170\n",
      "\n",
      "               accuracy                           0.80      2021\n",
      "              macro avg       0.80      0.60      0.64      2021\n",
      "           weighted avg       0.80      0.80      0.79      2021\n",
      "\n"
     ]
    }
   ],
   "source": [
    "from sklearn.ensemble import RandomForestClassifier\n",
    "from sklearn.svm import LinearSVC\n",
    "from sklearn.metrics import f1_score, classification_report\n",
    "\n",
    "rf = RandomForestClassifier(n_estimators=300, random_state=26)\n",
    "rf.fit(X_train, y_train)\n",
    "rf_pred = rf.predict(X_test)\n",
    "\n",
    "print('RandomForest Macro F1 Score:', f1_score(y_test, rf_pred, average='macro'))\n",
    "print('RandomForest Classification Report:\\n', classification_report(y_test, rf_pred))\n",
    "\n",
    "svm = LinearSVC(random_state=26)\n",
    "svm.fit(X_train, y_train)\n",
    "svm_pred = svm.predict(X_test)\n",
    "\n",
    "print('SVM Macro F1 Score:', f1_score(y_test, svm_pred, average='macro'))\n",
    "print('SVM Classification Report:\\n', classification_report(y_test, svm_pred))"
   ]
  },
  {
   "cell_type": "code",
   "execution_count": 4,
   "id": "dfeed40a",
   "metadata": {},
   "outputs": [
    {
     "name": "stdout",
     "output_type": "stream",
     "text": [
      "RandomForest with N-grams Macro F1 Score: 0.4837657895594431\n",
      "RandomForest with N-grams Classification Report:\n",
      "                          precision    recall  f1-score   support\n",
      "\n",
      "           Conservative       0.74      0.97      0.84      1205\n",
      "                 Labour       0.76      0.47      0.58       579\n",
      "       Liberal Democrat       0.00      0.00      0.00        67\n",
      "Scottish National Party       0.87      0.36      0.51       170\n",
      "\n",
      "               accuracy                           0.74      2021\n",
      "              macro avg       0.59      0.45      0.48      2021\n",
      "           weighted avg       0.73      0.74      0.71      2021\n",
      "\n"
     ]
    },
    {
     "name": "stderr",
     "output_type": "stream",
     "text": [
      "/Users/samuelmuloki/Documents/University/Birkbeck/Coursework/nlp-coursework-2024-25-SamuelMuloki/.venv/lib/python3.10/site-packages/sklearn/metrics/_classification.py:1706: UndefinedMetricWarning: Precision is ill-defined and being set to 0.0 in labels with no predicted samples. Use `zero_division` parameter to control this behavior.\n",
      "  _warn_prf(average, modifier, f\"{metric.capitalize()} is\", result.shape[0])\n",
      "/Users/samuelmuloki/Documents/University/Birkbeck/Coursework/nlp-coursework-2024-25-SamuelMuloki/.venv/lib/python3.10/site-packages/sklearn/metrics/_classification.py:1706: UndefinedMetricWarning: Precision is ill-defined and being set to 0.0 in labels with no predicted samples. Use `zero_division` parameter to control this behavior.\n",
      "  _warn_prf(average, modifier, f\"{metric.capitalize()} is\", result.shape[0])\n",
      "/Users/samuelmuloki/Documents/University/Birkbeck/Coursework/nlp-coursework-2024-25-SamuelMuloki/.venv/lib/python3.10/site-packages/sklearn/metrics/_classification.py:1706: UndefinedMetricWarning: Precision is ill-defined and being set to 0.0 in labels with no predicted samples. Use `zero_division` parameter to control this behavior.\n",
      "  _warn_prf(average, modifier, f\"{metric.capitalize()} is\", result.shape[0])\n"
     ]
    },
    {
     "name": "stdout",
     "output_type": "stream",
     "text": [
      "SVM with N-grams Macro F1 Score: 0.6470757532450477\n",
      "SVM with N-grams Classification Report:\n",
      "                          precision    recall  f1-score   support\n",
      "\n",
      "           Conservative       0.85      0.91      0.88      1205\n",
      "                 Labour       0.74      0.73      0.74       579\n",
      "       Liberal Democrat       0.76      0.19      0.31        67\n",
      "Scottish National Party       0.75      0.59      0.66       170\n",
      "\n",
      "               accuracy                           0.81      2021\n",
      "              macro avg       0.78      0.61      0.65      2021\n",
      "           weighted avg       0.81      0.81      0.80      2021\n",
      "\n"
     ]
    }
   ],
   "source": [
    "vectorizer = TfidfVectorizer(\n",
    "    stop_words='english',\n",
    "    max_features=3000,\n",
    "    ngram_range=(1, 3)\n",
    ")\n",
    "\n",
    "X = vectorizer.fit_transform(df['speech'])\n",
    "X_train, X_test, y_train, y_test = train_test_split(\n",
    "    X, y, test_size=0.25, random_state=26, stratify=y\n",
    ")\n",
    "\n",
    "rf = RandomForestClassifier(n_estimators=300, random_state=26)\n",
    "rf.fit(X_train, y_train)\n",
    "rf_pred = rf.predict(X_test)\n",
    "print('RandomForest with N-grams Macro F1 Score:', f1_score(y_test, rf_pred, average='macro'))\n",
    "print('RandomForest with N-grams Classification Report:\\n', classification_report(y_test, rf_pred))\n",
    "\n",
    "svm = LinearSVC(random_state=26)\n",
    "svm.fit(X_train, y_train)\n",
    "svm_pred = svm.predict(X_test)\n",
    "print('SVM with N-grams Macro F1 Score:', f1_score(y_test, svm_pred, average='macro'))\n",
    "print('SVM with N-grams Classification Report:\\n', classification_report(y_test, svm_pred))"
   ]
  }
 ],
 "metadata": {
  "kernelspec": {
   "display_name": ".venv",
   "language": "python",
   "name": "python3"
  },
  "language_info": {
   "codemirror_mode": {
    "name": "ipython",
    "version": 3
   },
   "file_extension": ".py",
   "mimetype": "text/x-python",
   "name": "python",
   "nbconvert_exporter": "python",
   "pygments_lexer": "ipython3",
   "version": "3.10.0"
  }
 },
 "nbformat": 4,
 "nbformat_minor": 5
}
