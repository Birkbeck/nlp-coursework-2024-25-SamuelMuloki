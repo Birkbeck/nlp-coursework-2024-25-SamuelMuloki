{
 "cells": [
  {
   "cell_type": "code",
   "execution_count": 1,
   "id": "cb87b99b",
   "metadata": {},
   "outputs": [
    {
     "name": "stdout",
     "output_type": "stream",
     "text": [
      "(8084, 8)\n"
     ]
    }
   ],
   "source": [
    "import pandas as pd\n",
    "\n",
    "df = pd.read_csv('p2-texts/hansard40000.csv')\n",
    "# Rename the ‘Labour (Co-op)’ value in ‘party’ column to ‘Labour’\n",
    "df['party'] = df['party'].replace('Labour (Co-op)', 'Labour')\n",
    "# Remove any rows where the value of the ‘party’ column is not one of the\n",
    "# four most common party names, and remove the ‘Speaker’ value\n",
    "top_parties = df['party'].value_counts().drop('Speaker').nlargest(4).index\n",
    "df = df[df['party'].isin(top_parties)]\n",
    "# Remove any rows where the value in the ‘speech_class’ column is not ‘Speech’.\n",
    "df = df[df['speech_class'] == 'Speech']\n",
    "# Remove any rows where the text in the ‘speech’ column is less than 1000\n",
    "# characters long.\n",
    "df = df[df['speech'].str.len() >= 1000]\n",
    "\n",
    "print(df.shape)"
   ]
  }
 ],
 "metadata": {
  "kernelspec": {
   "display_name": ".venv",
   "language": "python",
   "name": "python3"
  },
  "language_info": {
   "codemirror_mode": {
    "name": "ipython",
    "version": 3
   },
   "file_extension": ".py",
   "mimetype": "text/x-python",
   "name": "python",
   "nbconvert_exporter": "python",
   "pygments_lexer": "ipython3",
   "version": "3.10.0"
  }
 },
 "nbformat": 4,
 "nbformat_minor": 5
}
